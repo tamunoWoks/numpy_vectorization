{
 "cells": [
  {
   "cell_type": "markdown",
   "id": "0958bb2a-27d5-45c4-9a4d-644d582f8b70",
   "metadata": {},
   "source": [
    "## Vectors\n",
    "- Vectors are ordered arrays of numbers.\n",
    "- Vectors are denoted with lower case bold letters such as  **𝐱**.\n",
    "- The elements of a vector are all the same type. A vector does not, for example, contain both characters and numbers.\n",
    "- The number of elements in the array is often referred to as the dimension though mathematicians may prefer rank.\n",
    "- The elements of a vector can be referenced with an index.\n",
    "- In math settings, indexes typically run from `1` to `n`. In computer science, indexing will typically run from `0` to `n-1`.\n",
    "- In notation, elements of a vector, when referenced individually will indicate the index in a subscript, for example, the  `0𝑡ℎ` element, of the vector  **𝐱** is  𝑥<sub>0</sub>.  \n",
    "    **Note:** The x is not bold in this case."
   ]
  },
  {
   "cell_type": "markdown",
   "id": "e1a469a3-d0df-4ab4-aa8d-bc292f05ad21",
   "metadata": {},
   "source": [
    "#### NumPy Arrays\n",
    "- NumPy's basic data structure is an indexable, n-dimensional array containing elements of the same type (dtype).\n",
    "- We have overloaded the term 'dimension'. Above, it was the number of elements in the vector, here, dimension refers to the number of indexes of an array.\n",
    "- A one-dimensional or 1-D array has one index.\n",
    "- **1-D array, shape (n,):** n elements indexed [0] through [n-1]"
   ]
  },
  {
   "cell_type": "code",
   "execution_count": 12,
   "id": "2f580dc8-eaef-4a73-a76f-77d858be3bd4",
   "metadata": {},
   "outputs": [],
   "source": [
    "import numpy as np    # it is an unofficial standard to use np for numpy\n",
    "import time"
   ]
  },
  {
   "cell_type": "markdown",
   "id": "101b061e-91cb-47f3-bad0-fa376753c00c",
   "metadata": {},
   "source": [
    "#### Vector Creation \n",
    "- Data creation routines in NumPy will generally have a first parameter which is the shape of the object.\n",
    "- This can either be a single value for a 1-D result or a tuple (n,m,...) specifying the shape of the result.\n",
    "\n",
    "Below are examples of creating vectors using these routines:"
   ]
  },
  {
   "cell_type": "code",
   "execution_count": 15,
   "id": "b8f5f278-6e71-4541-a747-8da88433770a",
   "metadata": {},
   "outputs": [
    {
     "name": "stdout",
     "output_type": "stream",
     "text": [
      "np.zeros(4) :   a = [0. 0. 0. 0.], a shape = (4,), a data type = float64\n",
      "np.zeros(4,) :  a = [0. 0. 0. 0.], a shape = (4,), a data type = float64\n",
      "np.random.random_sample(4): a = [0.02880794 0.85591147 0.6004896  0.6389613 ], a shape = (4,), a data type = float64\n"
     ]
    }
   ],
   "source": [
    "# NumPy routines which allocate memory and fill arrays with value\n",
    "a = np.zeros(4);                print(f\"np.zeros(4) :   a = {a}, a shape = {a.shape}, a data type = {a.dtype}\")\n",
    "a = np.zeros((4,));             print(f\"np.zeros(4,) :  a = {a}, a shape = {a.shape}, a data type = {a.dtype}\")\n",
    "a = np.random.random_sample(4); print(f\"np.random.random_sample(4): a = {a}, a shape = {a.shape}, a data type = {a.dtype}\")"
   ]
  },
  {
   "cell_type": "markdown",
   "id": "f71c5ad1-9148-458c-bb96-69d0a43e5158",
   "metadata": {},
   "source": [
    "- Some data creation routines do not take a shape tuple:"
   ]
  },
  {
   "cell_type": "code",
   "execution_count": 18,
   "id": "3a1b640a-15cf-4527-bfa9-a57688eca819",
   "metadata": {},
   "outputs": [
    {
     "name": "stdout",
     "output_type": "stream",
     "text": [
      "np.arange(4.):     a = [0. 1. 2. 3.], a shape = (4,), a data type = float64\n",
      "np.random.rand(4): a = [0.47690187 0.52489243 0.65811012 0.94576887], a shape = (4,), a data type = float64\n"
     ]
    }
   ],
   "source": [
    "# NumPy routines which allocate memory and fill arrays with value but do not accept shape as input argument\n",
    "a = np.arange(4.);              print(f\"np.arange(4.):     a = {a}, a shape = {a.shape}, a data type = {a.dtype}\")\n",
    "a = np.random.rand(4);          print(f\"np.random.rand(4): a = {a}, a shape = {a.shape}, a data type = {a.dtype}\")"
   ]
  },
  {
   "cell_type": "markdown",
   "id": "1270ce23-05f2-4a1a-abb1-8851227a98d8",
   "metadata": {},
   "source": [
    "- Values can be specified manually as well."
   ]
  },
  {
   "cell_type": "code",
   "execution_count": 21,
   "id": "ac6121ea-2213-4781-b7a7-aa0f3441730b",
   "metadata": {},
   "outputs": [
    {
     "name": "stdout",
     "output_type": "stream",
     "text": [
      "np.array([5,4,3,2]):  a = [5 4 3 2],     a shape = (4,), a data type = int64\n",
      "np.array([5.,4,3,2]): a = [5. 4. 3. 2.], a shape = (4,), a data type = float64\n"
     ]
    }
   ],
   "source": [
    "# NumPy routines which allocate memory and fill with user specified values\n",
    "a = np.array([5,4,3,2]);  print(f\"np.array([5,4,3,2]):  a = {a},     a shape = {a.shape}, a data type = {a.dtype}\")\n",
    "a = np.array([5.,4,3,2]); print(f\"np.array([5.,4,3,2]): a = {a}, a shape = {a.shape}, a data type = {a.dtype}\")"
   ]
  },
  {
   "cell_type": "markdown",
   "id": "56855de2-3425-46c4-9a07-9f1d03cace33",
   "metadata": {},
   "source": [
    "- These have all created a one-dimensional vector a with four elements. a.shape returns the dimensions. Here we see a.shape = (4,) indicating a 1-d array with 4 elements."
   ]
  },
  {
   "cell_type": "markdown",
   "id": "1f6c624b-52a4-4ba2-a99c-a0061f3394c9",
   "metadata": {},
   "source": [
    "## Operations on Vectors\n",
    "Let's explore some operations using vectors.\n",
    "#### Indexing\n",
    "- Elements of vectors can be accessed via indexing and slicing.\n",
    "- NumPy provides a very complete set of indexing and slicing capabilities.\n",
    "- Indexing means referring to an element of an array by its position within the array.\n",
    "- Slicing means getting a subset of elements from an array based on their indices.\n",
    "- NumPy starts indexing at zero so the 3rd element of an vector  **𝐚** is `a[2]`."
   ]
  },
  {
   "cell_type": "code",
   "execution_count": 27,
   "id": "15907da5-fa3f-4891-af06-140a2ede240d",
   "metadata": {},
   "outputs": [
    {
     "name": "stdout",
     "output_type": "stream",
     "text": [
      "[0 1 2 3 4 5 6 7 8 9]\n",
      "a[2].shape: () a[2]  = 2, Accessing an element returns a scalar\n",
      "a[-1] = 9\n",
      "The error message you'll see is:\n",
      "index 10 is out of bounds for axis 0 with size 10\n"
     ]
    }
   ],
   "source": [
    "#vector indexing operations on 1-D vectors\n",
    "a = np.arange(10)\n",
    "print(a)\n",
    "\n",
    "#access an element\n",
    "print(f\"a[2].shape: {a[2].shape} a[2]  = {a[2]}, Accessing an element returns a scalar\")\n",
    "\n",
    "# access the last element, negative indexes count from the end\n",
    "print(f\"a[-1] = {a[-1]}\")\n",
    "\n",
    "#indexs must be within the range of the vector or they will produce and error\n",
    "try:\n",
    "    c = a[10]\n",
    "except Exception as e:\n",
    "    print(\"The error message you'll see is:\")\n",
    "    print(e)"
   ]
  },
  {
   "cell_type": "markdown",
   "id": "cb2be573-f865-4c77-84ea-27da1b9faa66",
   "metadata": {},
   "source": [
    "#### Slicing\n",
    "- Slicing creates an array of indices using a set of three values (start:stop:step).\n",
    "- A subset of values is also valid.\n",
    "\n",
    "Its use is best explained by example:"
   ]
  },
  {
   "cell_type": "code",
   "execution_count": 30,
   "id": "7e54343c-45ac-4c66-8b8d-3a3c923f93d8",
   "metadata": {},
   "outputs": [
    {
     "name": "stdout",
     "output_type": "stream",
     "text": [
      "a         = [0 1 2 3 4 5 6 7 8 9]\n",
      "a[2:7:1] =  [2 3 4 5 6]\n",
      "a[2:7:2] =  [2 4 6]\n",
      "a[3:]    =  [3 4 5 6 7 8 9]\n",
      "a[:3]    =  [0 1 2]\n",
      "a[:]     =  [0 1 2 3 4 5 6 7 8 9]\n"
     ]
    }
   ],
   "source": [
    "#vector slicing operations\n",
    "a = np.arange(10)\n",
    "print(f\"a         = {a}\")\n",
    "\n",
    "#access 5 consecutive elements (start:stop:step)\n",
    "c = a[2:7:1];     print(\"a[2:7:1] = \", c)\n",
    "\n",
    "# access 3 elements separated by two \n",
    "c = a[2:7:2];     print(\"a[2:7:2] = \", c)\n",
    "\n",
    "# access all elements index 3 and above\n",
    "c = a[3:];        print(\"a[3:]    = \", c)\n",
    "\n",
    "# access all elements below index 3\n",
    "c = a[:3];        print(\"a[:3]    = \", c)\n",
    "\n",
    "# access all elements\n",
    "c = a[:];         print(\"a[:]     = \", c)"
   ]
  },
  {
   "cell_type": "markdown",
   "id": "6ac69f74-3a09-44e8-bfa5-baeff22c9a40",
   "metadata": {},
   "source": [
    "#### Single vector operations\n",
    "- There are a number of useful operations that involve operations on a single vector."
   ]
  },
  {
   "cell_type": "code",
   "execution_count": 33,
   "id": "d7405f9f-95fc-4b42-a7f3-92c56cbc29bc",
   "metadata": {},
   "outputs": [
    {
     "name": "stdout",
     "output_type": "stream",
     "text": [
      "a             : [1 2 3 4]\n",
      "b = -a        : [-1 -2 -3 -4]\n",
      "b = np.sum(a) : 10\n",
      "b = np.mean(a): 2.5\n",
      "b = a**2      : [ 1  4  9 16]\n"
     ]
    }
   ],
   "source": [
    "a = np.array([1,2,3,4])\n",
    "print(f\"a             : {a}\")\n",
    "# negate elements of a\n",
    "b = -a \n",
    "print(f\"b = -a        : {b}\")\n",
    "\n",
    "# sum all elements of a, returns a scalar\n",
    "b = np.sum(a) \n",
    "print(f\"b = np.sum(a) : {b}\")\n",
    "\n",
    "b = np.mean(a)\n",
    "print(f\"b = np.mean(a): {b}\")\n",
    "\n",
    "b = a**2\n",
    "print(f\"b = a**2      : {b}\")"
   ]
  },
  {
   "cell_type": "markdown",
   "id": "76c355b0-0062-44ed-b1e1-c3b738561b65",
   "metadata": {},
   "source": [
    "#### Vector Vector element-wise operations\n",
    "- Most of the NumPy arithmetic, logical and comparison operations apply to vectors as well. These operators work on an element-by-element basis.  \n",
    "For example: 𝑐<sub>𝑖</sub> = 𝑎<sub>𝑖</sub> + 𝑏<sub>𝑖</sub>"
   ]
  },
  {
   "cell_type": "code",
   "execution_count": 40,
   "id": "1786fb06-fd9e-418a-bd48-d2885adc8c89",
   "metadata": {},
   "outputs": [
    {
     "name": "stdout",
     "output_type": "stream",
     "text": [
      "Binary operators work element wise: [0 0 6 8]\n"
     ]
    }
   ],
   "source": [
    "a = np.array([ 1, 2, 3, 4])\n",
    "b = np.array([-1,-2, 3, 4])\n",
    "print(f\"Binary operators work element wise: {a + b}\")"
   ]
  },
  {
   "cell_type": "markdown",
   "id": "5ce70950-2d51-4b14-af7e-94251dcd4c18",
   "metadata": {},
   "source": [
    "- Of course, for this to work correctly, the vectors must be of the same size:"
   ]
  },
  {
   "cell_type": "code",
   "execution_count": 49,
   "id": "165b0768-d3d8-454e-bbe3-56a01b7b436a",
   "metadata": {},
   "outputs": [
    {
     "name": "stdout",
     "output_type": "stream",
     "text": [
      "The error message you'll see is:\n",
      "operands could not be broadcast together with shapes (4,) (2,) \n"
     ]
    }
   ],
   "source": [
    "#try a mismatched vector operation\n",
    "c = np.array([1, 2])\n",
    "try:\n",
    "    d = a + c\n",
    "except Exception as e:\n",
    "    print(\"The error message you'll see is:\")\n",
    "    print(e)"
   ]
  },
  {
   "cell_type": "markdown",
   "id": "5c1fcefa-a781-4535-bc17-26c9981db8e5",
   "metadata": {},
   "source": [
    "#### Scalar Vector operations\n",
    "- Vectors can be 'scaled' by scalar values.\n",
    "- A scalar value is just a number.\n",
    "- The scalar multiplies all the elements of the vector."
   ]
  },
  {
   "cell_type": "code",
   "execution_count": 52,
   "id": "0dc9a14e-22e6-4e46-8778-ab1d226e2866",
   "metadata": {},
   "outputs": [
    {
     "name": "stdout",
     "output_type": "stream",
     "text": [
      "b = 5 * a : [ 5 10 15 20]\n"
     ]
    }
   ],
   "source": [
    "a = np.array([1, 2, 3, 4])\n",
    "\n",
    "# multiply a by a scalar\n",
    "b = 5 * a \n",
    "print(f\"b = 5 * a : {b}\")"
   ]
  },
  {
   "cell_type": "markdown",
   "id": "f3126de2-4a47-4a43-bdcb-e272f125e1f9",
   "metadata": {},
   "source": [
    "#### Vector Vector dot product\n",
    "- The dot product is a mainstay of Linear Algebra and NumPy\n",
    "- The dot product multiplies the values in two vectors element-wise and then sums the result.\n",
    "- Vector dot product requires the dimensions of the two vectors to be the same.\n",
    "\n",
    "Let's implement our own version of the dot product below: Assume both `a` and `b` are the same shape."
   ]
  },
  {
   "cell_type": "code",
   "execution_count": 57,
   "id": "0b184275-a87d-4cb1-bd55-f541984f0891",
   "metadata": {},
   "outputs": [],
   "source": [
    "def my_dot(a, b): \n",
    "    \"\"\"\n",
    "   Compute the dot product of two vectors\n",
    " \n",
    "    Args:\n",
    "      a (ndarray (n,)):  input vector \n",
    "      b (ndarray (n,)):  input vector with same dimension as a\n",
    "    \n",
    "    Returns:\n",
    "      x (scalar): \n",
    "    \"\"\"\n",
    "    x=0\n",
    "    for i in range(a.shape[0]):\n",
    "        x = x + a[i] * b[i]\n",
    "    return x"
   ]
  },
  {
   "cell_type": "code",
   "execution_count": 59,
   "id": "0a40ef6d-cfce-4b24-81a4-0d108f0bb76f",
   "metadata": {},
   "outputs": [
    {
     "name": "stdout",
     "output_type": "stream",
     "text": [
      "my_dot(a, b) = 24\n"
     ]
    }
   ],
   "source": [
    "# test 1-D\n",
    "a = np.array([1, 2, 3, 4])\n",
    "b = np.array([-1, 4, 3, 2])\n",
    "print(f\"my_dot(a, b) = {my_dot(a, b)}\")"
   ]
  },
  {
   "cell_type": "markdown",
   "id": "36208bc0-d810-4c7d-9741-c9ec269d2357",
   "metadata": {},
   "source": [
    "- Note, the dot product is expected to return a scalar value.  \n",
    "\n",
    "Let's try the same operations using np.dot."
   ]
  },
  {
   "cell_type": "code",
   "execution_count": 62,
   "id": "f75c627b-f82e-4ece-9edd-b61f73f62c20",
   "metadata": {},
   "outputs": [
    {
     "name": "stdout",
     "output_type": "stream",
     "text": [
      "NumPy 1-D np.dot(a, b) = 24, np.dot(a, b).shape = () \n",
      "NumPy 1-D np.dot(b, a) = 24, np.dot(a, b).shape = () \n"
     ]
    }
   ],
   "source": [
    "# test 1-D\n",
    "a = np.array([1, 2, 3, 4])\n",
    "b = np.array([-1, 4, 3, 2])\n",
    "c = np.dot(a, b)\n",
    "print(f\"NumPy 1-D np.dot(a, b) = {c}, np.dot(a, b).shape = {c.shape} \") \n",
    "c = np.dot(b, a)\n",
    "print(f\"NumPy 1-D np.dot(b, a) = {c}, np.dot(a, b).shape = {c.shape} \")\n"
   ]
  },
  {
   "cell_type": "markdown",
   "id": "6caa1818-1c13-4e2b-8553-f216bef8fd25",
   "metadata": {},
   "source": [
    "#### The Need for Speed: vector vs for loop\n",
    "- We utilized the NumPy library because it improves speed memory efficiency.\n",
    "\n",
    "Let's demonstrate:"
   ]
  },
  {
   "cell_type": "code",
   "execution_count": 65,
   "id": "6923a605-d690-4680-a4cc-df5917b99c6c",
   "metadata": {},
   "outputs": [
    {
     "name": "stdout",
     "output_type": "stream",
     "text": [
      "np.dot(a, b) =  2501072.5817\n",
      "Vectorized version duration: 48.8420 ms \n",
      "my_dot(a, b) =  2501072.5817\n",
      "loop version duration: 7505.6813 ms \n"
     ]
    }
   ],
   "source": [
    "np.random.seed(1)\n",
    "a = np.random.rand(10000000)  # very large arrays\n",
    "b = np.random.rand(10000000)\n",
    "\n",
    "tic = time.time()  # capture start time\n",
    "c = np.dot(a, b)\n",
    "toc = time.time()  # capture end time\n",
    "\n",
    "print(f\"np.dot(a, b) =  {c:.4f}\")\n",
    "print(f\"Vectorized version duration: {1000*(toc-tic):.4f} ms \")\n",
    "\n",
    "tic = time.time()  # capture start time\n",
    "c = my_dot(a,b)\n",
    "toc = time.time()  # capture end time\n",
    "\n",
    "print(f\"my_dot(a, b) =  {c:.4f}\")\n",
    "print(f\"loop version duration: {1000*(toc-tic):.4f} ms \")\n",
    "\n",
    "del(a);del(b)  #remove these big arrays from memory"
   ]
  },
  {
   "cell_type": "markdown",
   "id": "25a6a6c7-be4d-4f2b-b75b-5425992bc9fc",
   "metadata": {},
   "source": [
    "- Vectorization provides a large speed up in this example.\n",
    "- This is because NumPy makes better use of available data parallelism in the underlying hardware.\n",
    "- GPU's and modern CPU's implement Single Instruction, Multiple Data (SIMD) pipelines allowing multiple operations to be issued in parallel.\n",
    "- This is critical in Machine Learning where the data sets are often very large."
   ]
  },
  {
   "cell_type": "markdown",
   "id": "e897a45a-f7e3-4e3c-93de-4ab5b938bfd4",
   "metadata": {},
   "source": [
    "#### Vector Vector operations\n",
    "- Going forward, our examples will be stored in an array, X_train of dimension (m,n).\n",
    "- This will be explained more in context, but it is important to note it is a 2 Dimensional array or matrix .\n",
    "- `w` will be a 1-dimensional vector of shape (n,).\n",
    "- we will perform operations by looping through the examples, extracting each example to work on individually by indexing X. For example:X[i]\n",
    "- X[i] returns a value of shape (n,), a 1-dimensional vector. Consequently, operations involving X[i] are often vector-vector.\n",
    "- Aligning and understanding the shapes of your operands is important when performing vector operations."
   ]
  },
  {
   "cell_type": "code",
   "execution_count": 69,
   "id": "f1f95f78-dd3c-4fc2-80d8-3fc5d4d8d3c7",
   "metadata": {},
   "outputs": [
    {
     "name": "stdout",
     "output_type": "stream",
     "text": [
      "X[1] has shape (1,)\n",
      "w has shape (1,)\n",
      "c has shape ()\n"
     ]
    }
   ],
   "source": [
    "# show common Course 1 example\n",
    "X = np.array([[1],[2],[3],[4]])\n",
    "w = np.array([2])\n",
    "c = np.dot(X[1], w)\n",
    "\n",
    "print(f\"X[1] has shape {X[1].shape}\")\n",
    "print(f\"w has shape {w.shape}\")\n",
    "print(f\"c has shape {c.shape}\")"
   ]
  },
  {
   "cell_type": "markdown",
   "id": "90bbed58-f9c9-4c8a-9a5c-7911248f21ec",
   "metadata": {},
   "source": [
    "## Matrices\n",
    "- Matrices, are two dimensional arrays.\n",
    "- The elements of a matrix are all of the same type.\n",
    "- In notation, matrices are denoted with capitol, bold letter such as  **𝐗**\n",
    "- `m` is often the number of rows and `n` the number of columns.\n",
    "- The elements of a matrix can be referenced with a two dimensional index.\n",
    "- In math settings, numbers in the index typically run from 1 to n.\n",
    "- In computer science, indexing will run from 0 to n-1.\n",
    "- Generic Matrix Notation, 1st index is row, 2nd is column\n",
    "- 2-D matrices are used to hold training data.\n",
    "- Training data is  `𝑚` examples by  `𝑛` features creating an (m,n) array.\n",
    "\n",
    "Below you will review: \n",
    "- data creation\n",
    "- slicing and indexing\n",
    "\n",
    "#### Matrix Creation\n",
    "- The same functions that created 1-D vectors will create 2-D or n-D arrays.\n",
    "- Notice how NumPy uses brackets to denote each dimension.\n",
    "- Notice further than NumPy, when printing, will print one row per line.\n",
    "\n",
    "Below, the shape tuple is provided to achieve a 2-D result:"
   ]
  },
  {
   "cell_type": "code",
   "execution_count": 72,
   "id": "81d30a8f-99a5-4c23-97bf-25e424c90698",
   "metadata": {},
   "outputs": [
    {
     "name": "stdout",
     "output_type": "stream",
     "text": [
      "a shape = (1, 5), a = [[0. 0. 0. 0. 0.]]\n",
      "a shape = (2, 1), a = [[0.]\n",
      " [0.]]\n",
      "a shape = (1, 1), a = [[0.44236513]]\n"
     ]
    }
   ],
   "source": [
    "a = np.zeros((1, 5))                                       \n",
    "print(f\"a shape = {a.shape}, a = {a}\")                     \n",
    "\n",
    "a = np.zeros((2, 1))                                                                   \n",
    "print(f\"a shape = {a.shape}, a = {a}\") \n",
    "\n",
    "a = np.random.random_sample((1, 1))  \n",
    "print(f\"a shape = {a.shape}, a = {a}\") "
   ]
  },
  {
   "cell_type": "markdown",
   "id": "daf7fac5-13f1-4bd5-85d1-decb0b1453d2",
   "metadata": {},
   "source": [
    "- One can also manually specify data.\n",
    "- Dimensions are specified with additional brackets matching the format in the printing above."
   ]
  },
  {
   "cell_type": "code",
   "execution_count": 75,
   "id": "e2d544f4-b690-4287-a271-f71668351e54",
   "metadata": {},
   "outputs": [
    {
     "name": "stdout",
     "output_type": "stream",
     "text": [
      " a shape = (3, 1), np.array: a = [[5]\n",
      " [4]\n",
      " [3]]\n",
      " a shape = (3, 1), np.array: a = [[5]\n",
      " [4]\n",
      " [3]]\n"
     ]
    }
   ],
   "source": [
    "# NumPy routines which allocate memory and fill with user specified values\n",
    "a = np.array([[5], [4], [3]]);   print(f\" a shape = {a.shape}, np.array: a = {a}\")\n",
    "a = np.array([[5],   # One can also\n",
    "              [4],   # separate values\n",
    "              [3]]); #into separate rows\n",
    "print(f\" a shape = {a.shape}, np.array: a = {a}\")"
   ]
  },
  {
   "cell_type": "markdown",
   "id": "b4ffd967-30a6-4e68-90e3-85f1b9f451a0",
   "metadata": {},
   "source": [
    "- Let's explore some operations using matrices.\n",
    "#### Indexing\n",
    "- Matrices include a second index.\n",
    "- The two indexes describe `[row, column]`.\n",
    "- Access can either return an element or a row/column.\n",
    "\n",
    "See below:"
   ]
  },
  {
   "cell_type": "code",
   "execution_count": 78,
   "id": "3e4efc94-bb59-40a5-be11-b5787994a58d",
   "metadata": {},
   "outputs": [
    {
     "name": "stdout",
     "output_type": "stream",
     "text": [
      "a.shape: (3, 2), \n",
      "a= [[0 1]\n",
      " [2 3]\n",
      " [4 5]]\n",
      "\n",
      "a[2,0].shape:   (), a[2,0] = 4,     type(a[2,0]) = <class 'numpy.int64'> Accessing an element returns a scalar\n",
      "\n",
      "a[2].shape:   (2,), a[2]   = [4 5], type(a[2])   = <class 'numpy.ndarray'>\n"
     ]
    }
   ],
   "source": [
    "#vector indexing operations on matrices\n",
    "a = np.arange(6).reshape(-1, 2)   #reshape is a convenient way to create matrices\n",
    "print(f\"a.shape: {a.shape}, \\na= {a}\")\n",
    "\n",
    "#access an element\n",
    "print(f\"\\na[2,0].shape:   {a[2, 0].shape}, a[2,0] = {a[2, 0]},     type(a[2,0]) = {type(a[2, 0])} Accessing an element returns a scalar\\n\")\n",
    "\n",
    "#access a row\n",
    "print(f\"a[2].shape:   {a[2].shape}, a[2]   = {a[2]}, type(a[2])   = {type(a[2])}\")"
   ]
  },
  {
   "cell_type": "markdown",
   "id": "da12af89-365a-40bb-b203-47b0c7989f66",
   "metadata": {},
   "source": [
    "- Accessing a matrix by just specifying the row will return a 1-D vector."
   ]
  },
  {
   "cell_type": "markdown",
   "id": "ddefb6b2-05ed-4c91-ac93-676e217a3705",
   "metadata": {},
   "source": [
    "**Reshape:**\n",
    "- The previous example used reshape to shape the array.  \n",
    "    a = np.arange(6).reshape(-1, 2)\n",
    "- This line of code first created a 1-D Vector of six elements. It then reshaped that vector into a 2-D array using the reshape command. This could have been written:  \n",
    "    a = np.arange(6).reshape(3, 2)\n",
    "- To arrive at the same 3 row, 2 column array. The -1 argument tells the routine to compute the number of rows given the size of the array and the number of columns."
   ]
  },
  {
   "cell_type": "markdown",
   "id": "b435576b-8d71-4744-b172-3c890097465d",
   "metadata": {},
   "source": [
    "#### Slicing\n",
    "- Slicing creates an array of indices using a set of three values (`start:stop:step`).\n",
    "- A subset of values is also valid.\n",
    "\n",
    "Its use is best explained by example:"
   ]
  },
  {
   "cell_type": "code",
   "execution_count": 84,
   "id": "84c81924-891a-4c8f-8698-66f3faac2370",
   "metadata": {},
   "outputs": [
    {
     "name": "stdout",
     "output_type": "stream",
     "text": [
      "a = \n",
      "[[ 0  1  2  3  4  5  6  7  8  9]\n",
      " [10 11 12 13 14 15 16 17 18 19]]\n",
      "a[0, 2:7:1] =  [2 3 4 5 6] ,  a[0, 2:7:1].shape = (5,) a 1-D array\n",
      "a[:, 2:7:1] = \n",
      " [[ 2  3  4  5  6]\n",
      " [12 13 14 15 16]] ,  a[:, 2:7:1].shape = (2, 5) a 2-D array\n",
      "a[:,:] = \n",
      " [[ 0  1  2  3  4  5  6  7  8  9]\n",
      " [10 11 12 13 14 15 16 17 18 19]] ,  a[:,:].shape = (2, 10)\n",
      "a[1,:] =  [10 11 12 13 14 15 16 17 18 19] ,  a[1,:].shape = (10,) a 1-D array\n",
      "a[1]   =  [10 11 12 13 14 15 16 17 18 19] ,  a[1].shape   = (10,) a 1-D array\n"
     ]
    }
   ],
   "source": [
    "#vector 2-D slicing operations\n",
    "a = np.arange(20).reshape(-1, 10)\n",
    "print(f\"a = \\n{a}\")\n",
    "\n",
    "#access 5 consecutive elements (start:stop:step)\n",
    "print(\"a[0, 2:7:1] = \", a[0, 2:7:1], \",  a[0, 2:7:1].shape =\", a[0, 2:7:1].shape, \"a 1-D array\")\n",
    "\n",
    "#access 5 consecutive elements (start:stop:step) in two rows\n",
    "print(\"a[:, 2:7:1] = \\n\", a[:, 2:7:1], \",  a[:, 2:7:1].shape =\", a[:, 2:7:1].shape, \"a 2-D array\")\n",
    "\n",
    "# access all elements\n",
    "print(\"a[:,:] = \\n\", a[:,:], \",  a[:,:].shape =\", a[:,:].shape)\n",
    "\n",
    "# access all elements in one row (very common usage)\n",
    "print(\"a[1,:] = \", a[1,:], \",  a[1,:].shape =\", a[1,:].shape, \"a 1-D array\")\n",
    "# same as\n",
    "print(\"a[1]   = \", a[1],   \",  a[1].shape   =\", a[1].shape, \"a 1-D array\")\n"
   ]
  }
 ],
 "metadata": {
  "kernelspec": {
   "display_name": "Python 3 (ipykernel)",
   "language": "python",
   "name": "python3"
  },
  "language_info": {
   "codemirror_mode": {
    "name": "ipython",
    "version": 3
   },
   "file_extension": ".py",
   "mimetype": "text/x-python",
   "name": "python",
   "nbconvert_exporter": "python",
   "pygments_lexer": "ipython3",
   "version": "3.12.4"
  }
 },
 "nbformat": 4,
 "nbformat_minor": 5
}
